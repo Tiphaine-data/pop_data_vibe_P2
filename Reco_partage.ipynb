{
 "cells": [
  {
   "cell_type": "code",
   "execution_count": 30,
   "id": "db6e723e-d4a1-40f0-aca6-a3f79ca30db3",
   "metadata": {},
   "outputs": [],
   "source": [
    "import pandas as pd"
   ]
  },
  {
   "cell_type": "markdown",
   "id": "dbffd177-4b22-409b-aa55-8714a1f8fbcf",
   "metadata": {},
   "source": [
    "###Title_akas###"
   ]
  },
  {
   "cell_type": "code",
   "execution_count": 31,
   "id": "fe303454-dda9-41c7-a87c-6b0708931dc5",
   "metadata": {},
   "outputs": [],
   "source": [
    "#title_akas :\n",
    "\n",
    "#charger la base de données\n",
    "link_title_akas = \"https://datasets.imdbws.com/title.akas.tsv.gz\"\n",
    "df_akas = pd.read_csv(link_title_akas, sep = \"\\t\", low_memory = False)\n"
   ]
  },
  {
   "cell_type": "code",
   "execution_count": 32,
   "id": "526ddae3-4420-4b79-b22e-601f5386a458",
   "metadata": {},
   "outputs": [
    {
     "data": {
      "text/html": [
       "<div>\n",
       "<style scoped>\n",
       "    .dataframe tbody tr th:only-of-type {\n",
       "        vertical-align: middle;\n",
       "    }\n",
       "\n",
       "    .dataframe tbody tr th {\n",
       "        vertical-align: top;\n",
       "    }\n",
       "\n",
       "    .dataframe thead th {\n",
       "        text-align: right;\n",
       "    }\n",
       "</style>\n",
       "<table border=\"1\" class=\"dataframe\">\n",
       "  <thead>\n",
       "    <tr style=\"text-align: right;\">\n",
       "      <th></th>\n",
       "      <th>titleId</th>\n",
       "      <th>ordering</th>\n",
       "      <th>title</th>\n",
       "      <th>region</th>\n",
       "      <th>language</th>\n",
       "      <th>types</th>\n",
       "      <th>attributes</th>\n",
       "      <th>isOriginalTitle</th>\n",
       "    </tr>\n",
       "  </thead>\n",
       "  <tbody>\n",
       "    <tr>\n",
       "      <th>0</th>\n",
       "      <td>tt0000001</td>\n",
       "      <td>1</td>\n",
       "      <td>Carmencita</td>\n",
       "      <td>\\N</td>\n",
       "      <td>\\N</td>\n",
       "      <td>original</td>\n",
       "      <td>\\N</td>\n",
       "      <td>1</td>\n",
       "    </tr>\n",
       "    <tr>\n",
       "      <th>1</th>\n",
       "      <td>tt0000001</td>\n",
       "      <td>2</td>\n",
       "      <td>Carmencita</td>\n",
       "      <td>DE</td>\n",
       "      <td>\\N</td>\n",
       "      <td>\\N</td>\n",
       "      <td>literal title</td>\n",
       "      <td>0</td>\n",
       "    </tr>\n",
       "    <tr>\n",
       "      <th>2</th>\n",
       "      <td>tt0000001</td>\n",
       "      <td>3</td>\n",
       "      <td>Carmencita</td>\n",
       "      <td>US</td>\n",
       "      <td>\\N</td>\n",
       "      <td>imdbDisplay</td>\n",
       "      <td>\\N</td>\n",
       "      <td>0</td>\n",
       "    </tr>\n",
       "    <tr>\n",
       "      <th>3</th>\n",
       "      <td>tt0000001</td>\n",
       "      <td>4</td>\n",
       "      <td>Carmencita - spanyol tánc</td>\n",
       "      <td>HU</td>\n",
       "      <td>\\N</td>\n",
       "      <td>imdbDisplay</td>\n",
       "      <td>\\N</td>\n",
       "      <td>0</td>\n",
       "    </tr>\n",
       "    <tr>\n",
       "      <th>4</th>\n",
       "      <td>tt0000001</td>\n",
       "      <td>5</td>\n",
       "      <td>Καρμενσίτα</td>\n",
       "      <td>GR</td>\n",
       "      <td>\\N</td>\n",
       "      <td>imdbDisplay</td>\n",
       "      <td>\\N</td>\n",
       "      <td>0</td>\n",
       "    </tr>\n",
       "  </tbody>\n",
       "</table>\n",
       "</div>"
      ],
      "text/plain": [
       "     titleId  ordering                      title region language  \\\n",
       "0  tt0000001         1                 Carmencita     \\N       \\N   \n",
       "1  tt0000001         2                 Carmencita     DE       \\N   \n",
       "2  tt0000001         3                 Carmencita     US       \\N   \n",
       "3  tt0000001         4  Carmencita - spanyol tánc     HU       \\N   \n",
       "4  tt0000001         5                 Καρμενσίτα     GR       \\N   \n",
       "\n",
       "         types     attributes  isOriginalTitle  \n",
       "0     original             \\N                1  \n",
       "1           \\N  literal title                0  \n",
       "2  imdbDisplay             \\N                0  \n",
       "3  imdbDisplay             \\N                0  \n",
       "4  imdbDisplay             \\N                0  "
      ]
     },
     "execution_count": 32,
     "metadata": {},
     "output_type": "execute_result"
    }
   ],
   "source": [
    "df_akas.head()"
   ]
  },
  {
   "cell_type": "code",
   "execution_count": 33,
   "id": "de309f65-f190-4778-996f-6160b97bd0e3",
   "metadata": {},
   "outputs": [],
   "source": [
    "#Pour les langues il faudra trier avec tmdb\n",
    "#Bcp de films frcs n'ont pas l'indication de la langue, et la région ne veut rien dire par rapport à la langue\n",
    "\n",
    "#nous pouvons tout de même supprimer les colonnes où toutes les valeurs sont manquantes sur les colonnes : 'region', 'language', 'types', 'attributes', 'isOriginalTitle'\n",
    "\n",
    "col_language = ['region', 'language', 'types', 'attributes', 'isOriginalTitle']\n",
    "df_akas = df_akas.dropna(subset=col_language, how='all')\n"
   ]
  },
  {
   "cell_type": "code",
   "execution_count": 34,
   "id": "06a111df-bf84-44f8-8146-e9586d77ebad",
   "metadata": {},
   "outputs": [
    {
     "data": {
      "text/html": [
       "<div>\n",
       "<style scoped>\n",
       "    .dataframe tbody tr th:only-of-type {\n",
       "        vertical-align: middle;\n",
       "    }\n",
       "\n",
       "    .dataframe tbody tr th {\n",
       "        vertical-align: top;\n",
       "    }\n",
       "\n",
       "    .dataframe thead th {\n",
       "        text-align: right;\n",
       "    }\n",
       "</style>\n",
       "<table border=\"1\" class=\"dataframe\">\n",
       "  <thead>\n",
       "    <tr style=\"text-align: right;\">\n",
       "      <th></th>\n",
       "      <th>titleId</th>\n",
       "      <th>ordering</th>\n",
       "      <th>title</th>\n",
       "      <th>region</th>\n",
       "      <th>language</th>\n",
       "      <th>types</th>\n",
       "      <th>attributes</th>\n",
       "      <th>isOriginalTitle</th>\n",
       "    </tr>\n",
       "  </thead>\n",
       "  <tbody>\n",
       "    <tr>\n",
       "      <th>1581472</th>\n",
       "      <td>tt0263496</td>\n",
       "      <td>1</td>\n",
       "      <td>Les jolies choses</td>\n",
       "      <td>\\N</td>\n",
       "      <td>\\N</td>\n",
       "      <td>original</td>\n",
       "      <td>\\N</td>\n",
       "      <td>1</td>\n",
       "    </tr>\n",
       "    <tr>\n",
       "      <th>1581474</th>\n",
       "      <td>tt0263496</td>\n",
       "      <td>11</td>\n",
       "      <td>Les jolies choses</td>\n",
       "      <td>FR</td>\n",
       "      <td>\\N</td>\n",
       "      <td>imdbDisplay</td>\n",
       "      <td>\\N</td>\n",
       "      <td>0</td>\n",
       "    </tr>\n",
       "    <tr>\n",
       "      <th>15563883</th>\n",
       "      <td>tt1440232</td>\n",
       "      <td>1</td>\n",
       "      <td>Les petits mouchoirs</td>\n",
       "      <td>\\N</td>\n",
       "      <td>\\N</td>\n",
       "      <td>original</td>\n",
       "      <td>\\N</td>\n",
       "      <td>1</td>\n",
       "    </tr>\n",
       "    <tr>\n",
       "      <th>15563884</th>\n",
       "      <td>tt1440232</td>\n",
       "      <td>10</td>\n",
       "      <td>Les petits mouchoirs</td>\n",
       "      <td>CA</td>\n",
       "      <td>fr</td>\n",
       "      <td>imdbDisplay</td>\n",
       "      <td>\\N</td>\n",
       "      <td>0</td>\n",
       "    </tr>\n",
       "    <tr>\n",
       "      <th>15563916</th>\n",
       "      <td>tt1440232</td>\n",
       "      <td>9</td>\n",
       "      <td>Les petits mouchoirs</td>\n",
       "      <td>BE</td>\n",
       "      <td>\\N</td>\n",
       "      <td>imdbDisplay</td>\n",
       "      <td>\\N</td>\n",
       "      <td>0</td>\n",
       "    </tr>\n",
       "    <tr>\n",
       "      <th>39162896</th>\n",
       "      <td>tt5274878</td>\n",
       "      <td>1</td>\n",
       "      <td>Amélie Poulain</td>\n",
       "      <td>\\N</td>\n",
       "      <td>\\N</td>\n",
       "      <td>original</td>\n",
       "      <td>\\N</td>\n",
       "      <td>1</td>\n",
       "    </tr>\n",
       "    <tr>\n",
       "      <th>39162897</th>\n",
       "      <td>tt5274878</td>\n",
       "      <td>2</td>\n",
       "      <td>Amélie Poulain</td>\n",
       "      <td>FR</td>\n",
       "      <td>\\N</td>\n",
       "      <td>\\N</td>\n",
       "      <td>\\N</td>\n",
       "      <td>0</td>\n",
       "    </tr>\n",
       "    <tr>\n",
       "      <th>45815871</th>\n",
       "      <td>tt8834766</td>\n",
       "      <td>1</td>\n",
       "      <td>Amélie Poulain</td>\n",
       "      <td>\\N</td>\n",
       "      <td>\\N</td>\n",
       "      <td>original</td>\n",
       "      <td>\\N</td>\n",
       "      <td>1</td>\n",
       "    </tr>\n",
       "  </tbody>\n",
       "</table>\n",
       "</div>"
      ],
      "text/plain": [
       "            titleId  ordering                 title region language  \\\n",
       "1581472   tt0263496         1     Les jolies choses     \\N       \\N   \n",
       "1581474   tt0263496        11     Les jolies choses     FR       \\N   \n",
       "15563883  tt1440232         1  Les petits mouchoirs     \\N       \\N   \n",
       "15563884  tt1440232        10  Les petits mouchoirs     CA       fr   \n",
       "15563916  tt1440232         9  Les petits mouchoirs     BE       \\N   \n",
       "39162896  tt5274878         1        Amélie Poulain     \\N       \\N   \n",
       "39162897  tt5274878         2        Amélie Poulain     FR       \\N   \n",
       "45815871  tt8834766         1        Amélie Poulain     \\N       \\N   \n",
       "\n",
       "                types attributes  isOriginalTitle  \n",
       "1581472      original         \\N                1  \n",
       "1581474   imdbDisplay         \\N                0  \n",
       "15563883     original         \\N                1  \n",
       "15563884  imdbDisplay         \\N                0  \n",
       "15563916  imdbDisplay         \\N                0  \n",
       "39162896     original         \\N                1  \n",
       "39162897           \\N         \\N                0  \n",
       "45815871     original         \\N                1  "
      ]
     },
     "execution_count": 34,
     "metadata": {},
     "output_type": "execute_result"
    }
   ],
   "source": [
    "#je vérifie sur 3 films français :\n",
    "\n",
    "titres_fr= [\"Les jolies choses\", \"Amélie Poulain\", \"Les petits mouchoirs\"]\n",
    "df_akas[df_akas['title'].isin(titres_fr)]"
   ]
  },
  {
   "cell_type": "code",
   "execution_count": 35,
   "id": "bedd8e0a-45e9-4097-bcf8-d7b7f547cbe5",
   "metadata": {},
   "outputs": [],
   "source": [
    "#je supprime les colonnesordering, region, types, attributes, isOriginalTitle : garder language si manquant ds TMDB\n",
    "\n",
    "columns_to_drop = ['ordering', 'region', 'types', 'attributes', 'isOriginalTitle']\n",
    "df_akas = df_akas.drop(columns= columns_to_drop)"
   ]
  },
  {
   "cell_type": "code",
   "execution_count": 36,
   "id": "556c6e24-8e1f-4505-b4d1-1df0653bbc9c",
   "metadata": {},
   "outputs": [],
   "source": [
    "#supprimer les doublons sur la colonne titleId\n",
    "\n",
    "df_akas = df_akas.drop_duplicates(subset=['titleId'], keep='first')"
   ]
  },
  {
   "cell_type": "code",
   "execution_count": 37,
   "id": "efbc719b-4bb1-46b8-bb05-233e18e88f83",
   "metadata": {},
   "outputs": [
    {
     "data": {
      "text/html": [
       "<div>\n",
       "<style scoped>\n",
       "    .dataframe tbody tr th:only-of-type {\n",
       "        vertical-align: middle;\n",
       "    }\n",
       "\n",
       "    .dataframe tbody tr th {\n",
       "        vertical-align: top;\n",
       "    }\n",
       "\n",
       "    .dataframe thead th {\n",
       "        text-align: right;\n",
       "    }\n",
       "</style>\n",
       "<table border=\"1\" class=\"dataframe\">\n",
       "  <thead>\n",
       "    <tr style=\"text-align: right;\">\n",
       "      <th></th>\n",
       "      <th>titleId</th>\n",
       "      <th>title</th>\n",
       "      <th>language</th>\n",
       "    </tr>\n",
       "  </thead>\n",
       "  <tbody>\n",
       "    <tr>\n",
       "      <th>1581472</th>\n",
       "      <td>tt0263496</td>\n",
       "      <td>Les jolies choses</td>\n",
       "      <td>\\N</td>\n",
       "    </tr>\n",
       "    <tr>\n",
       "      <th>15563883</th>\n",
       "      <td>tt1440232</td>\n",
       "      <td>Les petits mouchoirs</td>\n",
       "      <td>\\N</td>\n",
       "    </tr>\n",
       "    <tr>\n",
       "      <th>39162896</th>\n",
       "      <td>tt5274878</td>\n",
       "      <td>Amélie Poulain</td>\n",
       "      <td>\\N</td>\n",
       "    </tr>\n",
       "    <tr>\n",
       "      <th>45815871</th>\n",
       "      <td>tt8834766</td>\n",
       "      <td>Amélie Poulain</td>\n",
       "      <td>\\N</td>\n",
       "    </tr>\n",
       "  </tbody>\n",
       "</table>\n",
       "</div>"
      ],
      "text/plain": [
       "            titleId                 title language\n",
       "1581472   tt0263496     Les jolies choses       \\N\n",
       "15563883  tt1440232  Les petits mouchoirs       \\N\n",
       "39162896  tt5274878        Amélie Poulain       \\N\n",
       "45815871  tt8834766        Amélie Poulain       \\N"
      ]
     },
     "execution_count": 37,
     "metadata": {},
     "output_type": "execute_result"
    }
   ],
   "source": [
    "#je vérifie sur 3 films français :\n",
    "\n",
    "titres_fr= [\"Les jolies choses\", \"Amélie Poulain\", \"Les petits mouchoirs\"]\n",
    "df_akas[df_akas['title'].isin(titres_fr)]"
   ]
  },
  {
   "cell_type": "code",
   "execution_count": 38,
   "id": "5cebf39a-d607-4793-b42b-32e90141b100",
   "metadata": {},
   "outputs": [],
   "source": [
    "#je reset les index\n",
    "\n",
    "df_akas.reset_index(inplace=True)\n",
    "\n",
    "#je supprime les valeurs manquantes\n",
    "df_akas = df_akas.dropna(subset=['title'])"
   ]
  },
  {
   "cell_type": "code",
   "execution_count": 39,
   "id": "93a4bf8a-da15-4386-99a1-e67d6443ac65",
   "metadata": {},
   "outputs": [],
   "source": [
    "#je supprime les valeurs manquantes\n",
    "df_akas = df_akas.dropna(subset=['title'])"
   ]
  },
  {
   "cell_type": "code",
   "execution_count": 40,
   "id": "1c25a48c-3a63-4b09-96c0-6352566c5fc8",
   "metadata": {},
   "outputs": [
    {
     "data": {
      "text/plain": [
       "index       0\n",
       "titleId     0\n",
       "title       0\n",
       "language    0\n",
       "dtype: int64"
      ]
     },
     "execution_count": 40,
     "metadata": {},
     "output_type": "execute_result"
    }
   ],
   "source": [
    "df_akas.isna().sum()"
   ]
  },
  {
   "cell_type": "code",
   "execution_count": null,
   "id": "32c672f3-e9ba-46eb-8e2b-1fd1070c3cf2",
   "metadata": {},
   "outputs": [],
   "source": [
    "titres_fr= [\"Les jolies choses\", \"Amélie Poulain\", \"Les petits mouchoirs\"]\n",
    "df_akas[df_akas['title'].isin(titres_fr)]"
   ]
  },
  {
   "cell_type": "markdown",
   "id": "ceb55dbd-4e17-4d94-8f64-b44708858134",
   "metadata": {},
   "source": [
    "###Table_acteurs###"
   ]
  },
  {
   "cell_type": "code",
   "execution_count": 46,
   "id": "af3f202b-3f44-41df-a2ad-634e899f2713",
   "metadata": {},
   "outputs": [],
   "source": [
    "#charger la base de données\n",
    "\n",
    "link_actor = \"https://datasets.imdbws.com/title.principals.tsv.gz\"\n",
    "df_actor = pd.read_csv(link_actor, sep = \"\\t\", low_memory=False)\n",
    "\n",
    "#il n'y a pas de valeurs manquantes"
   ]
  },
  {
   "cell_type": "code",
   "execution_count": 48,
   "id": "03195648-97be-4d81-a4d1-d6edfcb755bb",
   "metadata": {},
   "outputs": [],
   "source": [
    "#supprimer les colonnes job (métier connus de la personne) et ordering (ordre d'importance du role)\n",
    "\n",
    "columns_actors_to_drop = ['ordering', 'job']\n",
    "df_actor = df_actor.drop(columns= columns_actors_to_drop)\n"
   ]
  },
  {
   "cell_type": "code",
   "execution_count": 49,
   "id": "61492e91-f714-4751-afe2-15d705ed8f5b",
   "metadata": {},
   "outputs": [
    {
     "data": {
      "text/html": [
       "<div>\n",
       "<style scoped>\n",
       "    .dataframe tbody tr th:only-of-type {\n",
       "        vertical-align: middle;\n",
       "    }\n",
       "\n",
       "    .dataframe tbody tr th {\n",
       "        vertical-align: top;\n",
       "    }\n",
       "\n",
       "    .dataframe thead th {\n",
       "        text-align: right;\n",
       "    }\n",
       "</style>\n",
       "<table border=\"1\" class=\"dataframe\">\n",
       "  <thead>\n",
       "    <tr style=\"text-align: right;\">\n",
       "      <th></th>\n",
       "      <th>tconst</th>\n",
       "      <th>nconst</th>\n",
       "      <th>category</th>\n",
       "      <th>characters</th>\n",
       "    </tr>\n",
       "  </thead>\n",
       "  <tbody>\n",
       "    <tr>\n",
       "      <th>0</th>\n",
       "      <td>tt0000001</td>\n",
       "      <td>nm1588970</td>\n",
       "      <td>self</td>\n",
       "      <td>[\"Self\"]</td>\n",
       "    </tr>\n",
       "    <tr>\n",
       "      <th>1</th>\n",
       "      <td>tt0000001</td>\n",
       "      <td>nm0005690</td>\n",
       "      <td>director</td>\n",
       "      <td>\\N</td>\n",
       "    </tr>\n",
       "    <tr>\n",
       "      <th>2</th>\n",
       "      <td>tt0000001</td>\n",
       "      <td>nm0005690</td>\n",
       "      <td>producer</td>\n",
       "      <td>\\N</td>\n",
       "    </tr>\n",
       "    <tr>\n",
       "      <th>3</th>\n",
       "      <td>tt0000001</td>\n",
       "      <td>nm0374658</td>\n",
       "      <td>cinematographer</td>\n",
       "      <td>\\N</td>\n",
       "    </tr>\n",
       "    <tr>\n",
       "      <th>4</th>\n",
       "      <td>tt0000002</td>\n",
       "      <td>nm0721526</td>\n",
       "      <td>director</td>\n",
       "      <td>\\N</td>\n",
       "    </tr>\n",
       "  </tbody>\n",
       "</table>\n",
       "</div>"
      ],
      "text/plain": [
       "      tconst     nconst         category characters\n",
       "0  tt0000001  nm1588970             self   [\"Self\"]\n",
       "1  tt0000001  nm0005690         director         \\N\n",
       "2  tt0000001  nm0005690         producer         \\N\n",
       "3  tt0000001  nm0374658  cinematographer         \\N\n",
       "4  tt0000002  nm0721526         director         \\N"
      ]
     },
     "execution_count": 49,
     "metadata": {},
     "output_type": "execute_result"
    }
   ],
   "source": [
    "#il peut y avoir des doublons c'est normal"
   ]
  },
  {
   "cell_type": "code",
   "execution_count": null,
   "id": "21068a04-b353-41f1-ae4a-3b5a56b78b18",
   "metadata": {},
   "outputs": [],
   "source": []
  },
  {
   "cell_type": "code",
   "execution_count": 50,
   "id": "2dad1eb6-219d-434a-8ceb-7322c6948e64",
   "metadata": {},
   "outputs": [],
   "source": [
    "# ne garder que les 6 premières catégories de participants dans un film\n",
    "\n",
    "df_actor = df_actor[df_actor['category'].str.contains('actor|actress|self|writer|director|producer')]"
   ]
  },
  {
   "cell_type": "code",
   "execution_count": 54,
   "id": "b397a6e3-3a39-4fe7-bbdd-f5c818166049",
   "metadata": {},
   "outputs": [
    {
     "data": {
      "text/plain": [
       "category\n",
       "actor               20553517\n",
       "actress             15389924\n",
       "self                12071565\n",
       "writer              10413140\n",
       "director             7434883\n",
       "producer             6514770\n",
       "casting_director     1003681\n",
       "Name: count, dtype: int64"
      ]
     },
     "execution_count": 54,
     "metadata": {},
     "output_type": "execute_result"
    }
   ],
   "source": [
    "df_actor['category'].value_counts()"
   ]
  },
  {
   "cell_type": "markdown",
   "id": "1a5603c6-6a16-467c-8f9c-c737de281bb7",
   "metadata": {},
   "source": [
    "### TABLE CREW ###"
   ]
  },
  {
   "cell_type": "raw",
   "id": "82fab112-a824-4b1f-9b5e-ad0210ed4878",
   "metadata": {},
   "source": [
    "#Charger la base de données\n",
    "#Sert à récupérer les noms que l'on n'a pas dans la table df_actor\n",
    "\n",
    "link_title_crew = \"https://datasets.imdbws.com/title.crew.tsv.gz\"\n",
    "df_crew = pd.read_csv(link_title_crew, sep = \"\\t\", low_memory = False)\n",
    "\n"
   ]
  },
  {
   "cell_type": "code",
   "execution_count": 58,
   "id": "4560c4d4-2909-4af7-a644-9ec8a7e7bef3",
   "metadata": {},
   "outputs": [
    {
     "data": {
      "text/plain": [
       "10132345"
      ]
     },
     "execution_count": 58,
     "metadata": {},
     "output_type": "execute_result"
    }
   ],
   "source": []
  }
 ],
 "metadata": {
  "kernelspec": {
   "display_name": "Python 3 (ipykernel)",
   "language": "python",
   "name": "python3"
  },
  "language_info": {
   "codemirror_mode": {
    "name": "ipython",
    "version": 3
   },
   "file_extension": ".py",
   "mimetype": "text/x-python",
   "name": "python",
   "nbconvert_exporter": "python",
   "pygments_lexer": "ipython3",
   "version": "3.11.9"
  }
 },
 "nbformat": 4,
 "nbformat_minor": 5
}
